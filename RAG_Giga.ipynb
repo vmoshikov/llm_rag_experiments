{
 "cells": [
  {
   "cell_type": "code",
   "execution_count": 126,
   "id": "initial_id",
   "metadata": {
    "collapsed": true,
    "ExecuteTime": {
     "end_time": "2025-07-14T15:23:58.013437Z",
     "start_time": "2025-07-14T15:23:56.960880Z"
    }
   },
   "outputs": [
    {
     "name": "stdout",
     "output_type": "stream",
     "text": [
      "Requirement already satisfied: numpy in /opt/conda/lib/python3.11/site-packages (2.3.1)\r\n",
      "Note: you may need to restart the kernel to use updated packages.\n"
     ]
    }
   ],
   "source": [
    "pip install numpy"
   ]
  },
  {
   "cell_type": "markdown",
   "source": [
    "# Подготовка контекста"
   ],
   "metadata": {
    "collapsed": false
   },
   "id": "16185471c6adb77"
  },
  {
   "cell_type": "code",
   "outputs": [
    {
     "data": {
      "text/plain": "95"
     },
     "execution_count": 181,
     "metadata": {},
     "output_type": "execute_result"
    }
   ],
   "source": [
    "import time\n",
    "from langchain.text_splitter import RecursiveCharacterTextSplitter\n",
    "from langchain.schema import Document\n",
    "\n",
    "text_splitter = RecursiveCharacterTextSplitter(\n",
    "    chunk_size=100,\n",
    "    chunk_overlap=20,\n",
    "    length_function=len,\n",
    "    is_separator_regex=False\n",
    ")\n",
    "\n",
    "with open(\"/home/jovyan/work/docs/story.md\") as f:\n",
    "    text_story = f.read()\n",
    "    \n",
    "chunks_story = text_splitter.split_text(text_story)\n",
    "documents_story = [Document(page_content=text) for text in chunks_story]\n",
    "# len(chunks_story)\n",
    "len(documents_story)\n",
    "# documents_story[:3]"
   ],
   "metadata": {
    "collapsed": false,
    "ExecuteTime": {
     "end_time": "2025-07-14T19:27:23.765863Z",
     "start_time": "2025-07-14T19:27:23.748052Z"
    }
   },
   "id": "af24ce7c73758d33",
   "execution_count": 181
  },
  {
   "cell_type": "markdown",
   "source": [
    "## Векторизуем основной контекст Ollama"
   ],
   "metadata": {
    "collapsed": false
   },
   "id": "6c711b856fddf00d"
  },
  {
   "cell_type": "code",
   "outputs": [
    {
     "name": "stdout",
     "output_type": "stream",
     "text": [
      "Embedded in 0.31s: Путешествия Зелёного Человечка...\n",
      "Embedded in 0.03s: В 1980 году с планеты Зурбле-7...\n",
      "Embedded in 0.03s: или просто Зелёч, в экспедицию...\n",
      "Embedded in 0.04s: изучить обитателей изолированн...\n",
      "Embedded in 0.02s: культуру, язык и абсурдную лог...\n",
      "Embedded in 0.03s: # Остров 1: Чайнофия\n",
      "\n",
      "1980\n",
      "\n",
      "“К...\n",
      "Embedded in 0.04s: Зелёч прибыл на остров, утопаю...\n",
      "Embedded in 0.03s: Воздух здесь был горячим, но н...\n",
      "Embedded in 0.03s: Завариссы — высокие, тонкие су...\n",
      "Embedded in 0.03s: вместо ушей. Говорят они на вз...\n",
      "Embedded in 0.02s: Они не спят, а погружаются в т...\n",
      "Embedded in 0.03s: Общество у них матриархальное:...\n",
      "Embedded in 0.02s: поэмы для листьев....\n",
      "Embedded in 0.03s: Зелёч выучил их церемонию паро...\n",
      "Embedded in 0.03s: # Остров 2: Бюрократика\n",
      "\n",
      "1982\n",
      "...\n",
      "Embedded in 0.03s: Пейзаж острова — бесконечные о...\n",
      "Embedded in 0.02s: названы по типам заявлений....\n",
      "Embedded in 0.03s: Формуляры — приземистые сущест...\n",
      "Embedded in 0.03s: Из ушей свисают синие ручки. Р...\n",
      "Embedded in 0.02s: или “Проект возвращён на дораб...\n",
      "Embedded in 0.02s: Их религия — канон Указа 12.1....\n",
      "Embedded in 0.03s: Каждый формуляр рождается с од...\n",
      "Embedded in 0.03s: У них есть праздник — Анкетани...\n",
      "Embedded in 0.03s: о себе. Зелёч стал первым суще...\n",
      "Embedded in 0.03s: # Остров 3: Дебетоидия\n",
      "\n",
      "1985\n",
      "\n",
      "...\n",
      "Embedded in 0.03s: # Остров состоял из кассовых з...\n",
      "Embedded in 0.03s: Глазомерцы — существа с огромн...\n",
      "Embedded in 0.03s: к цене: чем шире зрачок, тем б...\n",
      "Embedded in 0.03s: Их язык — моргоматика, в нём к...\n",
      "Embedded in 0.03s: Они поклоняются Богу Счёта — Б...\n",
      "Embedded in 0.03s: У них есть игра — Блиц-перерас...\n",
      "Embedded in 0.03s: стоимость воздуха. Зелёч проиг...\n",
      "Embedded in 0.03s: # Остров 4: Танцобумия\n",
      "\n",
      "1989\n",
      "\n",
      "...\n",
      "Embedded in 0.03s: # Остров постоянно вибрировал:...\n",
      "Embedded in 0.03s: реагировали на музыку, выпуска...\n",
      "Embedded in 0.03s: Тряслики — живые пружины, у ко...\n",
      "Embedded in 0.03s: ни одной руки: все предметы он...\n",
      "Embedded in 0.03s: Разговаривают они движениями т...\n",
      "Embedded in 0.03s: Их общество делится на баттлер...\n",
      "Embedded in 0.02s: браки — ритуал “Поворот-обет”....\n",
      "Embedded in 0.03s: Зелёч обучился танцу Гелико-ве...\n",
      "Embedded in 0.03s: 1992\n",
      "\n",
      "“Здесь помнят всё… даже ...\n",
      "Embedded in 0.03s: Леса состояли из книг, а облак...\n",
      "Embedded in 0.03s: Памятюки — существа с головами...\n",
      "Embedded in 0.03s: меняет оттенок в зависимости о...\n",
      "Embedded in 0.03s: Они говорят на языке ретроспек...\n",
      "Embedded in 0.03s: Их иерархия основана на Глубин...\n",
      "Embedded in 0.02s: кто помнит день до своего рожд...\n",
      "Embedded in 0.03s: Зелёч чуть не сошёл с ума, уви...\n",
      "Embedded in 0.02s: рецепт супа из мыслей....\n",
      "Embedded in 0.03s: # Остров 6: Лентиленд\n",
      "\n",
      "1995\n",
      "\n",
      "“...\n",
      "Embedded in 0.03s: Всё здесь происходило медленно...\n",
      "Embedded in 0.02s: полдень в 2007 году....\n",
      "Embedded in 0.03s: Лентилы — мягкие на ощупь, с д...\n",
      "Embedded in 0.03s: занимало около двух минут. Они...\n",
      "Embedded in 0.03s: Вместо глаз — круглые часики, ...\n",
      "Embedded in 0.03s: У них нет слова “спешка”, зато...\n",
      "Embedded in 0.03s: Зелёч прожил у них три “нецикл...\n",
      "Embedded in 0.03s: # Остров 7: Оптиматия\n",
      "\n",
      "1999\n",
      "\n",
      "“...\n",
      "Embedded in 0.03s: Идеальные дороги, идеальные об...\n",
      "Embedded in 0.03s: Таймчеры — биомеханические гум...\n",
      "Embedded in 0.03s: В их языке нет прошедшего врем...\n",
      "Embedded in 0.03s: Раз в месяц у них проходит Чек...\n",
      "Embedded in 0.02s: максимум эффективности....\n",
      "Embedded in 0.03s: Зелёч попытался импровизироват...\n",
      "Embedded in 0.03s: лидером субкультуры рандомалис...\n",
      "Embedded in 0.03s: # Остров 8: Сберляндия\n",
      "\n",
      "2003\n",
      "\n",
      "...\n",
      "Embedded in 0.03s: Изумрудные равнины, солнце в ф...\n",
      "Embedded in 0.02s: эмоции измеряются в “экозначим...\n",
      "Embedded in 0.03s: Сберианцы — гуманоиды с листоо...\n",
      "Embedded in 0.03s: Их язык — экономоэмо, в которо...\n",
      "Embedded in 0.03s: Общество построено на принципе...\n",
      "Embedded in 0.03s: Они собирают предложения как я...\n",
      "Embedded in 0.03s: Зелёч внедрил местную практику...\n",
      "Embedded in 0.02s: цитируют его фразу:...\n",
      "Embedded in 0.03s: “Вместо трёх слов — одно. Зато...\n",
      "Embedded in 0.03s: Небо розовое, почва меняет вку...\n",
      "Embedded in 0.02s: но только в левом крыле остров...\n",
      "Embedded in 0.03s: Багундуки — существа с четырьм...\n",
      "Embedded in 0.03s: У них есть система убеждений, ...\n",
      "Embedded in 0.03s: Каждый багундук обязан иметь к...\n",
      "Embedded in 0.03s: Они верят в Священный Завис, и...\n",
      "Embedded in 0.04s: Зелёч установил обновление реа...\n",
      "Embedded in 0.03s: стабильные вещи. Его немедленн...\n",
      "Embedded in 0.03s: # Остров 10: Фидбэкария\n",
      "\n",
      "2020\n",
      "...\n",
      "Embedded in 0.03s: На всём острове висят формы, к...\n",
      "Embedded in 0.03s: Фидбэканцы — прозрачные полупр...\n",
      "Embedded in 0.03s: Чем выше их оценочный рейтинг,...\n",
      "Embedded in 0.02s: дышать в прибрежной зоне....\n",
      "Embedded in 0.03s: У них есть Храм Обратной Связи...\n",
      "Embedded in 0.03s: Зелёч случайно запустил волну ...\n",
      "Embedded in 0.02s: # 🚀 Эпилог...\n",
      "Embedded in 0.03s: Зелёч улетел. Но где-то в прос...\n",
      "Embedded in 0.04s: чая, застывший жест танца, обр...\n",
      "Embedded in 0.03s: Его миссия — не в сборе данных...\n"
     ]
    }
   ],
   "source": [
    "from ollama import Client\n",
    "from langchain.vectorstores import FAISS\n",
    "from langchain.embeddings.base import Embeddings\n",
    "from typing import List\n",
    "\n",
    "client = Client(host='http://host.docker.internal:11434')\n",
    "\n",
    "texts = [doc.page_content for doc in documents_story]\n",
    "\n",
    "# Получаем эмбеддинги\n",
    "class OllamaEmbeddings(Embeddings):\n",
    "    def __init__(self, model: str, host: str):\n",
    "        self.client = Client(host=host)\n",
    "        self.model = model\n",
    "\n",
    "    def embed_documents(self, texts: List[str]) -> List[List[float]]:\n",
    "        results = []\n",
    "        for txt in texts:\n",
    "            start = time.time()\n",
    "            embedding = self.client.embeddings(model=self.model, prompt=txt)[\"embedding\"]\n",
    "            print(f\"Embedded in {time.time() - start:.2f}s: {txt[:30]}...\")\n",
    "            results.append(embedding)\n",
    "        return results\n",
    "\n",
    "    def embed_query(self, text: str) -> List[float]:\n",
    "        return self.client.embeddings(model=self.model, prompt=text)[\"embedding\"]\n",
    "\n",
    "# Пример:\n",
    "ollama_embedder = OllamaEmbeddings(model=\"mxbai-embed-large\", host=\"http://host.docker.internal:11434\")\n",
    "vectorstore = FAISS.from_documents(documents_story, ollama_embedder)"
   ],
   "metadata": {
    "collapsed": false,
    "ExecuteTime": {
     "end_time": "2025-07-14T19:27:27.904966Z",
     "start_time": "2025-07-14T19:27:24.744624Z"
    }
   },
   "id": "90d33affe03967c2",
   "execution_count": 182
  },
  {
   "cell_type": "code",
   "outputs": [
    {
     "name": "stdout",
     "output_type": "stream",
     "text": [
      "Score: 158.0827\n",
      "Content: # Остров 6: Лентиленд\n",
      "\n",
      "1995\n",
      "\n",
      "“Где каждый день — понедельник”\n",
      "--------------------------------------------------\n",
      "Score: 197.9559\n",
      "Content: В 1980 году с планеты Зурбле-7 был отправлен исследователь — Зелёный Человечек, или просто Зелёч, в\n",
      "--------------------------------------------------\n",
      "Score: 219.2520\n",
      "Content: Воздух здесь был горячим, но насыщал, словно бульон.\n",
      "--------------------------------------------------\n",
      "Score: 225.6282\n",
      "Content: Всё здесь происходило медленно. Даже свет был слегка замедленным и тёплым, словно полдень в 2007\n",
      "--------------------------------------------------\n"
     ]
    }
   ],
   "source": [
    "query = \"что было в 1995 году?\"\n",
    "query_vector = ollama_embedder.embed_query(query)\n",
    "retrieved_docs = vectorstore.similarity_search_with_score_by_vector(query_vector)\n",
    "\n",
    "for doc, score in retrieved_docs:\n",
    "    print(f\"Score: {score:.4f}\\nContent: {doc.page_content[:200]}\\n{'-'*50}\")\n",
    "    \n",
    "context_text = \"\\n\\n\".join([doc.page_content for doc, score in retrieved_docs])"
   ],
   "metadata": {
    "collapsed": false,
    "ExecuteTime": {
     "end_time": "2025-07-14T19:29:16.320412Z",
     "start_time": "2025-07-14T19:29:16.162811Z"
    }
   },
   "id": "4259efd96b881551",
   "execution_count": 189
  },
  {
   "cell_type": "markdown",
   "source": [
    "## Интерпритация через LLM"
   ],
   "metadata": {
    "collapsed": false
   },
   "id": "e919ecc2cdcca858"
  },
  {
   "cell_type": "code",
   "outputs": [
    {
     "name": "stdout",
     "output_type": "stream",
     "text": [
      "Из предоставленных документов о планете Сберля в 1995 году नहодит nothing особых событий или информации, связанной напрямую с этой дата. Однако, существует упоминание 1980 года, когда на Зурбле-7 был отправлен исследователь - Зелёный Человек (Зелёч), который прибыл на Лентиленд в 1995 году.\n"
     ]
    }
   ],
   "source": [
    "# Ты — искусственный интеллект, который читает книгу Льва Толстого Война и Мир\n",
    "prompt = f\"\"\"\n",
    "Ты — искусственный интеллект, который читает исторические документы о планете Сберля. \n",
    "\n",
    "Вот вопрос пользователя:\n",
    "\"{query}\"\n",
    "\n",
    "Вот выдержки из документов, релевантные вопросу:\n",
    "{context_text}\n",
    "\n",
    "На основе приведённых документов:\n",
    "1. Ответь расширенно на вопрос пользователя.\n",
    "2. Если ответа нет, однозначно скажи, что в предоставленных текстах об этом не сказано.\n",
    "3. Не выдумывай фактов вне этих документов.\n",
    "\n",
    "Ответ:\n",
    "\"\"\"\n",
    "\n",
    "response = client.chat(\n",
    "    model=\"llama3.2\",\n",
    "    messages=[\n",
    "        {\"role\": \"user\", \"content\": prompt}\n",
    "    ]\n",
    ")\n",
    "print(response['message']['content'])"
   ],
   "metadata": {
    "collapsed": false,
    "ExecuteTime": {
     "end_time": "2025-07-14T19:29:19.590609Z",
     "start_time": "2025-07-14T19:29:16.968500Z"
    }
   },
   "id": "c10674a56ff38a5b",
   "execution_count": 190
  },
  {
   "cell_type": "markdown",
   "source": [
    "# Обогащение контекста"
   ],
   "metadata": {
    "collapsed": false
   },
   "id": "1eb69e89f3894b39"
  },
  {
   "cell_type": "code",
   "outputs": [],
   "source": [],
   "metadata": {
    "collapsed": false
   },
   "id": "c821c489baf82a46"
  }
 ],
 "metadata": {
  "kernelspec": {
   "display_name": "Python 3",
   "language": "python",
   "name": "python3"
  },
  "language_info": {
   "codemirror_mode": {
    "name": "ipython",
    "version": 2
   },
   "file_extension": ".py",
   "mimetype": "text/x-python",
   "name": "python",
   "nbconvert_exporter": "python",
   "pygments_lexer": "ipython2",
   "version": "2.7.6"
  }
 },
 "nbformat": 4,
 "nbformat_minor": 5
}
